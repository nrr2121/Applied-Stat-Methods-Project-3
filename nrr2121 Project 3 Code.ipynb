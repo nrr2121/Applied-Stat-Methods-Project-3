{
 "cells": [
  {
   "cell_type": "markdown",
   "metadata": {},
   "source": [
    "### DATA INITIALIZATION"
   ]
  },
  {
   "cell_type": "code",
   "execution_count": 2,
   "metadata": {},
   "outputs": [],
   "source": [
    "data.full <- read.csv(\"P3_data.csv\", header = T)"
   ]
  },
  {
   "cell_type": "markdown",
   "metadata": {},
   "source": [
    "### DATA CLEANING"
   ]
  },
  {
   "cell_type": "code",
   "execution_count": 3,
   "metadata": {},
   "outputs": [],
   "source": [
    "#remove <= 100\n",
    "data.full <- data.full[!(data.full$GrossAmount > 0 & data.full$GrossAmount <= 100), ]\n",
    "\n",
    "#remove unknown products\n",
    "data.full <- data.full[!(data.full$Productid == \"unknown\"), ]\n",
    "data.full <- data.full[!is.element(data.full$Productid, names(sort(table(data.full$Productid), decreasing = T)[25:length(unique(data.full$Productid))])), ]\n",
    "\n",
    "#fix dates\n",
    "data.full$date.fix <- as.Date(data.full$EntryDate)\n",
    "\n",
    "#Clean funnel\n",
    "data.full$everset <- ifelse(data.full$everissued == 1 |\n",
    "                              data.full$evernetissued == 1 |\n",
    "                              data.full$eversat == 1 |\n",
    "                              data.full$GrossAmount > 0, 1, 0)\n",
    "\n",
    "data.full$everissued <- ifelse(data.full$evernetissued == 1 |\n",
    "                              data.full$eversat == 1 |\n",
    "                              data.full$GrossAmount > 0, 1, 0)\n",
    "\n",
    "data.full$evernetissued <- ifelse(data.full$eversat == 1 |\n",
    "                              data.full$GrossAmount > 0, 1, 0)\n",
    "\n",
    "\n",
    "#Sale\n",
    "data.full$sale <- ifelse(data.full$NetAmount > 0, 1, 0)\n",
    "\n",
    "#Rescinded\n",
    "data.full$rescinded <- ifelse(data.full$GrossAmount > 0 & data.full$NetAmount == 0, 1, 0)\n",
    "\n",
    "#ChangeOrder\n",
    "data.full$changeorder <- ifelse(data.full$GrossAmount > 0 & data.full$NetAmount > 0 & data.full$GrossAmount != data.full$NetAmount, 1, 0)\n",
    "\n",
    "#Signed\n",
    "data.full$signed <- ifelse(data.full$GrossAmount > 0, 1, 0)\n",
    "\n",
    "\n",
    "#Product Category\n",
    "data.full$Product.category <- NA\n",
    "\n",
    "data.full[data.full$Productid == \"hottub\" |\n",
    "            data.full$Productid == \"kitchen\" |\n",
    "            data.full$Productid == \"door\" |\n",
    "            data.full$Productid == \"sunroom\" |\n",
    "            data.full$Productid == \"basement\" |\n",
    "            data.full$Productid == \"solar\" |\n",
    "            data.full$Productid == \"screenroom\" |\n",
    "            data.full$Productid == \"generator\" |\n",
    "            data.full$Productid == \"patiodoor\" |\n",
    "            data.full$Productid == \"cool\" |\n",
    "            data.full$Productid == \"deck\" |\n",
    "            data.full$Productid == \"patiocover\", \"Product.category\"] <- \"Luxury\"\n",
    "\n",
    "data.full[data.full$Productid == \"win\" |\n",
    "            data.full$Productid == \"bath\" |\n",
    "            data.full$Productid == \"siding\" |\n",
    "            data.full$Productid == \"gtrpro\" |\n",
    "            data.full$Productid == \"gutters\" |\n",
    "            data.full$Productid == \"bsmtwaterproof\" |\n",
    "            data.full$Productid == \"water\", \"Product.category\"] <- \"Not Urgent\"\n",
    "\n",
    "data.full[data.full$Productid == \"roof\" |\n",
    "            data.full$Productid == \"walkintub\" |\n",
    "            data.full$Productid == \"shower\" |\n",
    "            data.full$Productid == \"longevity\" |\n",
    "            data.full$Productid == \"tub\", \"Product.category\"] <- \"Urgent\""
   ]
  },
  {
   "cell_type": "markdown",
   "metadata": {},
   "source": [
    "### DATA EXPLORATION"
   ]
  },
  {
   "cell_type": "code",
   "execution_count": 3,
   "metadata": {},
   "outputs": [
    {
     "data": {
      "text/html": [
       "<time datetime=\"2020-02-15\">2020-02-15</time>"
      ],
      "text/latex": [
       "2020-02-15"
      ],
      "text/markdown": [
       "2020-02-15"
      ],
      "text/plain": [
       "[1] \"2020-02-15\""
      ]
     },
     "metadata": {},
     "output_type": "display_data"
    },
    {
     "data": {
      "text/html": [
       "<time datetime=\"2020-09-30\">2020-09-30</time>"
      ],
      "text/latex": [
       "2020-09-30"
      ],
      "text/markdown": [
       "2020-09-30"
      ],
      "text/plain": [
       "[1] \"2020-09-30\""
      ]
     },
     "metadata": {},
     "output_type": "display_data"
    }
   ],
   "source": [
    "min(data.full$date.fix) #Start Date\n",
    "max(data.full$date.fix) #End Date"
   ]
  },
  {
   "cell_type": "code",
   "execution_count": 4,
   "metadata": {},
   "outputs": [
    {
     "data": {
      "text/html": [
       "2210476"
      ],
      "text/latex": [
       "2210476"
      ],
      "text/markdown": [
       "2210476"
      ],
      "text/plain": [
       "[1] 2210476"
      ]
     },
     "metadata": {},
     "output_type": "display_data"
    }
   ],
   "source": [
    "nrow(data.full) #Number of records"
   ]
  },
  {
   "cell_type": "code",
   "execution_count": 5,
   "metadata": {},
   "outputs": [
    {
     "data": {
      "text/html": [
       "0.0556712671840816"
      ],
      "text/latex": [
       "0.0556712671840816"
      ],
      "text/markdown": [
       "0.0556712671840816"
      ],
      "text/plain": [
       "[1] 0.05567127"
      ]
     },
     "metadata": {},
     "output_type": "display_data"
    }
   ],
   "source": [
    "nrow(data.full[data.full$sale ==1, ])/nrow(data.full) #Percent of sales"
   ]
  },
  {
   "cell_type": "code",
   "execution_count": 14,
   "metadata": {},
   "outputs": [
    {
     "data": {
      "text/plain": [
       "\n",
       "          roof            win      walkintub           bath         hottub \n",
       "   0.259098493    0.251533606    0.138711300    0.102190207    0.046273291 \n",
       "           tub         shower          water         siding           door \n",
       "   0.032852200    0.029628460    0.029159783    0.025643346    0.012345757 \n",
       "       kitchen        sunroom          solar       basement        gutters \n",
       "   0.011930010    0.011735934    0.008209092    0.006623008    0.005886515 \n",
       "    patiocover bsmtwaterproof     screenroom         gtrpro           cool \n",
       "   0.004818872    0.004262430    0.003791491    0.003474365    0.003164024 \n",
       "     patiodoor      generator           deck      longevity \n",
       "   0.003051379    0.002054309    0.001952068    0.001610060 "
      ]
     },
     "metadata": {},
     "output_type": "display_data"
    }
   ],
   "source": [
    "sort(table(data.full$Productid), decreasing = T)[1:24]/sum(table(data.full$Productid)) #Product types"
   ]
  },
  {
   "cell_type": "code",
   "execution_count": 7,
   "metadata": {},
   "outputs": [
    {
     "data": {
      "text/plain": [
       "\n",
       "    Urgent Not Urgent     Luxury \n",
       " 0.4619005  0.4221503  0.1159492 "
      ]
     },
     "metadata": {},
     "output_type": "display_data"
    }
   ],
   "source": [
    "sort(table(data.full$Product.category), decreasing = T)/sum(table(data.full$Product.category)) #Product categories"
   ]
  },
  {
   "cell_type": "code",
   "execution_count": 16,
   "metadata": {},
   "outputs": [
    {
     "data": {
      "text/plain": [
       "\n",
       "          TX           OH           FL           CA           PA           MI \n",
       "8.120559e-02 7.137015e-02 7.085714e-02 6.866711e-02 5.058865e-02 5.057146e-02 \n",
       "          TN           NY           VA           NC           IL           WI \n",
       "4.986347e-02 4.579783e-02 3.109873e-02 3.104897e-02 3.018038e-02 3.004240e-02 \n",
       "          MO           GA           IN           CO           WA           MD \n",
       "2.711859e-02 2.577318e-02 2.390616e-02 2.277699e-02 2.271909e-02 2.224724e-02 \n",
       "          MN           AZ           MA           KY           OK           NJ \n",
       "2.128365e-02 2.120765e-02 1.893936e-02 1.714201e-02 1.368619e-02 1.322747e-02 \n",
       "          OR           KS           NM           SC           CT           LA \n",
       "1.260633e-02 1.246202e-02 1.142469e-02 1.069498e-02 1.062486e-02 9.866653e-03 \n",
       "          AL           NV           IA           ID           AR           MS \n",
       "9.208876e-03 8.978609e-03 7.980182e-03 6.784059e-03 6.357002e-03 5.122879e-03 \n",
       "          WV           DE           RI           UT           NH           ME \n",
       "5.044615e-03 4.281883e-03 3.492008e-03 3.344529e-03 3.108833e-03 1.556678e-03 \n",
       "          NE           DC           MT           VT           SD           WY \n",
       "1.498320e-03 9.319260e-04 9.183542e-04 7.052780e-04 5.813228e-04 4.881302e-04 \n",
       "          ND           HI           AK \n",
       "4.768204e-04 7.238260e-05 6.831108e-05 "
      ]
     },
     "metadata": {},
     "output_type": "display_data"
    }
   ],
   "source": [
    "sort(table(data.full$state), decreasing = T)/sum(table(data.full$state)) #States"
   ]
  },
  {
   "cell_type": "code",
   "execution_count": 17,
   "metadata": {},
   "outputs": [
    {
     "data": {
      "image/png": "[encoded data removed]",
      "text/plain": [
       "plot without title"
      ]
     },
     "metadata": {},
     "output_type": "display_data"
    }
   ],
   "source": [
    "#Number of sales everday in dataset\n",
    "dates <- sort(unique(data.full$date.fix), decreasing = F)\n",
    "\n",
    "sale.date <- vector()\n",
    "for (i in 1:length(dates)){\n",
    "  sale.date <- c(sale.date, sum(data.full[data.full$date.fix == dates[i], \"sale\"]))\n",
    "}\n",
    "\n",
    "plot(dates, sale.date, xlab = \"Date (2/15/20 - 9/30/20)\", ylab = \"Count of Sales\")"
   ]
  },
  {
   "cell_type": "code",
   "execution_count": 23,
   "metadata": {},
   "outputs": [
    {
     "data": {
      "text/html": [
       "<table>\n",
       "<thead><tr><th scope=col>level</th><th scope=col>count</th><th scope=col>percent</th><th scope=col>luxury</th><th scope=col>urgent</th><th scope=col>noturgent</th></tr></thead>\n",
       "<tbody>\n",
       "\t<tr><td>everset      </td><td>591317       </td><td>26.750663658 </td><td>14.731692    </td><td>34.81990     </td><td>50.44841     </td></tr>\n",
       "\t<tr><td>everissued   </td><td>589943       </td><td>26.688505100 </td><td>14.604631    </td><td>34.86083     </td><td>50.53454     </td></tr>\n",
       "\t<tr><td>evernetissued</td><td>425087       </td><td>19.230563915 </td><td>13.426898    </td><td>33.91518     </td><td>52.65793     </td></tr>\n",
       "\t<tr><td>eversat      </td><td>423795       </td><td>19.172114965 </td><td>13.434562    </td><td>33.94684     </td><td>52.61860     </td></tr>\n",
       "\t<tr><td>signed       </td><td>155343       </td><td> 7.027581390 </td><td>11.968354    </td><td>35.20146     </td><td>52.83019     </td></tr>\n",
       "\t<tr><td>rescinded    </td><td> 32283       </td><td> 1.460454671 </td><td> 9.639748    </td><td>40.05514     </td><td>50.30511     </td></tr>\n",
       "\t<tr><td>sale         </td><td>123060       </td><td> 5.567126718 </td><td>12.579230    </td><td>33.92817     </td><td>53.49261     </td></tr>\n",
       "\t<tr><td>changeorder  </td><td>   180       </td><td> 0.008143042 </td><td> 2.777778    </td><td>70.55556     </td><td>26.66667     </td></tr>\n",
       "</tbody>\n",
       "</table>\n"
      ],
      "text/latex": [
       "\\begin{tabular}{r|llllll}\n",
       " level & count & percent & luxury & urgent & noturgent\\\\\n",
       "\\hline\n",
       "\t everset       & 591317        & 26.750663658  & 14.731692     & 34.81990      & 50.44841     \\\\\n",
       "\t everissued    & 589943        & 26.688505100  & 14.604631     & 34.86083      & 50.53454     \\\\\n",
       "\t evernetissued & 425087        & 19.230563915  & 13.426898     & 33.91518      & 52.65793     \\\\\n",
       "\t eversat       & 423795        & 19.172114965  & 13.434562     & 33.94684      & 52.61860     \\\\\n",
       "\t signed        & 155343        &  7.027581390  & 11.968354     & 35.20146      & 52.83019     \\\\\n",
       "\t rescinded     &  32283        &  1.460454671  &  9.639748     & 40.05514      & 50.30511     \\\\\n",
       "\t sale          & 123060        &  5.567126718  & 12.579230     & 33.92817      & 53.49261     \\\\\n",
       "\t changeorder   &    180        &  0.008143042  &  2.777778     & 70.55556      & 26.66667     \\\\\n",
       "\\end{tabular}\n"
      ],
      "text/markdown": [
       "\n",
       "| level | count | percent | luxury | urgent | noturgent |\n",
       "|---|---|---|---|---|---|\n",
       "| everset       | 591317        | 26.750663658  | 14.731692     | 34.81990      | 50.44841      |\n",
       "| everissued    | 589943        | 26.688505100  | 14.604631     | 34.86083      | 50.53454      |\n",
       "| evernetissued | 425087        | 19.230563915  | 13.426898     | 33.91518      | 52.65793      |\n",
       "| eversat       | 423795        | 19.172114965  | 13.434562     | 33.94684      | 52.61860      |\n",
       "| signed        | 155343        |  7.027581390  | 11.968354     | 35.20146      | 52.83019      |\n",
       "| rescinded     |  32283        |  1.460454671  |  9.639748     | 40.05514      | 50.30511      |\n",
       "| sale          | 123060        |  5.567126718  | 12.579230     | 33.92817      | 53.49261      |\n",
       "| changeorder   |    180        |  0.008143042  |  2.777778     | 70.55556      | 26.66667      |\n",
       "\n"
      ],
      "text/plain": [
       "  level         count  percent      luxury    urgent   noturgent\n",
       "1 everset       591317 26.750663658 14.731692 34.81990 50.44841 \n",
       "2 everissued    589943 26.688505100 14.604631 34.86083 50.53454 \n",
       "3 evernetissued 425087 19.230563915 13.426898 33.91518 52.65793 \n",
       "4 eversat       423795 19.172114965 13.434562 33.94684 52.61860 \n",
       "5 signed        155343  7.027581390 11.968354 35.20146 52.83019 \n",
       "6 rescinded      32283  1.460454671  9.639748 40.05514 50.30511 \n",
       "7 sale          123060  5.567126718 12.579230 33.92817 53.49261 \n",
       "8 changeorder      180  0.008143042  2.777778 70.55556 26.66667 "
      ]
     },
     "metadata": {},
     "output_type": "display_data"
    }
   ],
   "source": [
    "#Data at each funnel level\n",
    "data.funnel <- data.frame(level = rep(NA, 8), count = rep(NA, 8), percent = rep(NA, 8), luxury = rep(NA, 8), urgent = rep(NA, 8), noturgent = rep(NA, 8))\n",
    "\n",
    "funnel.cols <- c(12, 13, 14, 15, 32, 30, 29, 31) #names(data.full[, c(12, 13, 14, 15, 32, 30, 29, 31)])\n",
    "j <- 1\n",
    "\n",
    "for (i in funnel.cols){\n",
    "  \n",
    "  \n",
    "  data.funnel$level[j] <- names(data.full)[i]\n",
    "  data.funnel$count[j] <- nrow(data.full[data.full[,i] == 1, ])\n",
    "  data.funnel$percent[j] <- nrow(data.full[data.full[,i] == 1, ])/nrow(data.full)*100\n",
    "  data.funnel$luxury[j] <- nrow(data.full[data.full[,i] == 1 & data.full$Product.category == \"Luxury\", ])/nrow(data.full[data.full[,i] == 1, ])*100\n",
    "  data.funnel$urgent[j] <- nrow(data.full[data.full[,i] == 1 & data.full$Product.category == \"Urgent\", ])/nrow(data.full[data.full[,i] == 1, ])*100\n",
    "  data.funnel$noturgent[j] <- nrow(data.full[data.full[,i] == 1 & data.full$Product.category == \"Not Urgent\", ])/nrow(data.full[data.full[,i] == 1, ])*100\n",
    "\n",
    "  j <- j + 1\n",
    "}\n",
    "\n",
    "data.funnel\n",
    "#write.table(data.funnel, \"clipboard\", sep = \"\\t\")"
   ]
  },
  {
   "cell_type": "code",
   "execution_count": 24,
   "metadata": {},
   "outputs": [
    {
     "data": {
      "image/png": "[encoded data removed]",
      "text/plain": [
       "plot without title"
      ]
     },
     "metadata": {},
     "output_type": "display_data"
    }
   ],
   "source": [
    "#Set appointmnet by mobility\n",
    "set.vec <- vector()\n",
    "n.set.vec <- vector()\n",
    "mob.values <- sort(unique(data.full$residential), decreasing = F)[table(data.full$residential)>1000]\n",
    "for (i in mob.values){\n",
    "  data.temp <- data.full[data.full$residential == i, ]\n",
    "  set.vec <- c(set.vec, mean(data.temp$everset))\n",
    "  n.set.vec <- c(n.set.vec, nrow(data.temp))\n",
    "} \n",
    "\n",
    "\n",
    "library(RColorBrewer)\n",
    "percs <- c(0, 0.2, 0.4, 0.6, 0.8, 1)\n",
    "breaks <- quantile(n.set.vec, percs)\n",
    "cols <- brewer.pal(length(percs) - 1, \"YlOrRd\")\n",
    "\n",
    "col_cat <- cut(n.set.vec,\n",
    "               breaks = breaks,\n",
    "               include.lowest = TRUE)\n",
    "\n",
    "\n",
    "plot(mob.values, set.vec*100, col = cols[col_cat], pch = 16, \n",
    "     xlab = \"% Change in Residential Mobility from Baseline\", ylab = \"% of Leads that Set an Appointment\")#, main = \"% of Leads w/ Appointment by % Change in Residential Mobility\")\n",
    "legend(\"topleft\", legend=levels(col_cat), fill=cols, title = \"# Leads\")"
   ]
  },
  {
   "cell_type": "code",
   "execution_count": 25,
   "metadata": {},
   "outputs": [
    {
     "data": {
      "image/png": "[encoded data removed]",
      "text/plain": [
       "plot without title"
      ]
     },
     "metadata": {},
     "output_type": "display_data"
    }
   ],
   "source": [
    "#Sales by mobility\n",
    "sale.vec <- vector()\n",
    "n.vec <- vector()\n",
    "mob.values <- sort(unique(data.full$residential), decreasing = F)[table(data.full$residential)>1000]\n",
    "for (i in mob.values){\n",
    "  data.temp <- data.full[data.full$residential == i, ]\n",
    "  sale.vec <- c(sale.vec, mean(data.temp$sale))\n",
    "  n.vec <- c(n.vec, nrow(data.temp))\n",
    "} \n",
    "\n",
    "library(RColorBrewer)\n",
    "percs <- c(0, 0.2, 0.4, 0.6, 0.8, 1)\n",
    "breaks <- quantile(n.vec, percs)\n",
    "cols <- brewer.pal(length(percs) - 1, \"YlOrRd\")\n",
    "\n",
    "col_cat <- cut(n.vec,\n",
    "               breaks = breaks,\n",
    "               include.lowest = TRUE)\n",
    "\n",
    "\n",
    "plot(mob.values, sale.vec*100, col = cols[col_cat], pch = 16,\n",
    "     xlab = \"% Change in Residential Mobility from Baseline\", ylab = \"% of Leads that Sold\")#, main = \"% of Leads that Sold by % Change in Residential Mobility\")\n",
    "legend(\"topleft\", legend=levels(col_cat), fill=cols, title = \"# Leads\")"
   ]
  },
  {
   "cell_type": "code",
   "execution_count": 11,
   "metadata": {},
   "outputs": [
    {
     "data": {
      "text/html": [
       "-0.504913244400011"
      ],
      "text/latex": [
       "-0.504913244400011"
      ],
      "text/markdown": [
       "-0.504913244400011"
      ],
      "text/plain": [
       "[1] -0.5049132"
      ]
     },
     "metadata": {},
     "output_type": "display_data"
    },
    {
     "data": {
      "text/html": [
       "-0.0498695474114843"
      ],
      "text/latex": [
       "-0.0498695474114843"
      ],
      "text/markdown": [
       "-0.0498695474114843"
      ],
      "text/plain": [
       "[1] -0.04986955"
      ]
     },
     "metadata": {},
     "output_type": "display_data"
    },
    {
     "data": {
      "text/html": [
       "-0.717881876500765"
      ],
      "text/latex": [
       "-0.717881876500765"
      ],
      "text/markdown": [
       "-0.717881876500765"
      ],
      "text/plain": [
       "[1] -0.7178819"
      ]
     },
     "metadata": {},
     "output_type": "display_data"
    },
    {
     "data": {
      "text/html": [
       "-0.66791331417017"
      ],
      "text/latex": [
       "-0.66791331417017"
      ],
      "text/markdown": [
       "-0.66791331417017"
      ],
      "text/plain": [
       "[1] -0.6679133"
      ]
     },
     "metadata": {},
     "output_type": "display_data"
    },
    {
     "data": {
      "text/html": [
       "-0.867211919789402"
      ],
      "text/latex": [
       "-0.867211919789402"
      ],
      "text/markdown": [
       "-0.867211919789402"
      ],
      "text/plain": [
       "[1] -0.8672119"
      ]
     },
     "metadata": {},
     "output_type": "display_data"
    }
   ],
   "source": [
    "#Correlation of each measure of mobility\n",
    "cor(data.full$residential, data.full$grocery)\n",
    "cor(data.full$residential, data.full$parks)\n",
    "cor(data.full$residential, data.full$retail)\n",
    "cor(data.full$residential, data.full$transit)\n",
    "cor(data.full$residential, data.full$workplace)"
   ]
  },
  {
   "cell_type": "markdown",
   "metadata": {},
   "source": [
    "### MODEL BUILDING"
   ]
  },
  {
   "cell_type": "code",
   "execution_count": 29,
   "metadata": {},
   "outputs": [],
   "source": [
    "mp.0 <- glm(sale ~ 1, data = data.full, family=binomial)\n",
    "#summary(mp.0)"
   ]
  },
  {
   "cell_type": "code",
   "execution_count": 30,
   "metadata": {},
   "outputs": [
    {
     "data": {
      "text/html": [
       "<table>\n",
       "<thead><tr><th scope=col>Resid. Df</th><th scope=col>Resid. Dev</th><th scope=col>Df</th><th scope=col>Deviance</th><th scope=col>Pr(&gt;Chi)</th></tr></thead>\n",
       "<tbody>\n",
       "\t<tr><td>2210475 </td><td>950004.5</td><td>NA      </td><td>      NA</td><td>NA      </td></tr>\n",
       "\t<tr><td>2210474 </td><td>947868.4</td><td> 1      </td><td>2136.122</td><td> 0      </td></tr>\n",
       "</tbody>\n",
       "</table>\n"
      ],
      "text/latex": [
       "\\begin{tabular}{r|lllll}\n",
       " Resid. Df & Resid. Dev & Df & Deviance & Pr(>Chi)\\\\\n",
       "\\hline\n",
       "\t 2210475  & 950004.5 & NA       &       NA & NA      \\\\\n",
       "\t 2210474  & 947868.4 &  1       & 2136.122 &  0      \\\\\n",
       "\\end{tabular}\n"
      ],
      "text/markdown": [
       "\n",
       "| Resid. Df | Resid. Dev | Df | Deviance | Pr(>Chi) |\n",
       "|---|---|---|---|---|\n",
       "| 2210475  | 950004.5 | NA       |       NA | NA       |\n",
       "| 2210474  | 947868.4 |  1       | 2136.122 |  0       |\n",
       "\n"
      ],
      "text/plain": [
       "  Resid. Df Resid. Dev Df Deviance Pr(>Chi)\n",
       "1 2210475   950004.5   NA       NA NA      \n",
       "2 2210474   947868.4    1 2136.122  0      "
      ]
     },
     "metadata": {},
     "output_type": "display_data"
    }
   ],
   "source": [
    "mp.1 <- glm(sale ~ residential, data = data.full, family=binomial)\n",
    "anova(mp.0, mp.1, test=\"Chisq\")\n",
    "#summary(mp.1)"
   ]
  },
  {
   "cell_type": "code",
   "execution_count": 31,
   "metadata": {},
   "outputs": [
    {
     "data": {
      "text/html": [
       "<table>\n",
       "<thead><tr><th scope=col>Resid. Df</th><th scope=col>Resid. Dev</th><th scope=col>Df</th><th scope=col>Deviance</th><th scope=col>Pr(&gt;Chi)</th></tr></thead>\n",
       "<tbody>\n",
       "\t<tr><td>2210474 </td><td>947868.4</td><td>NA      </td><td>      NA</td><td>NA      </td></tr>\n",
       "\t<tr><td>2210472 </td><td>940065.3</td><td> 2      </td><td>7803.068</td><td> 0      </td></tr>\n",
       "</tbody>\n",
       "</table>\n"
      ],
      "text/latex": [
       "\\begin{tabular}{r|lllll}\n",
       " Resid. Df & Resid. Dev & Df & Deviance & Pr(>Chi)\\\\\n",
       "\\hline\n",
       "\t 2210474  & 947868.4 & NA       &       NA & NA      \\\\\n",
       "\t 2210472  & 940065.3 &  2       & 7803.068 &  0      \\\\\n",
       "\\end{tabular}\n"
      ],
      "text/markdown": [
       "\n",
       "| Resid. Df | Resid. Dev | Df | Deviance | Pr(>Chi) |\n",
       "|---|---|---|---|---|\n",
       "| 2210474  | 947868.4 | NA       |       NA | NA       |\n",
       "| 2210472  | 940065.3 |  2       | 7803.068 |  0       |\n",
       "\n"
      ],
      "text/plain": [
       "  Resid. Df Resid. Dev Df Deviance Pr(>Chi)\n",
       "1 2210474   947868.4   NA       NA NA      \n",
       "2 2210472   940065.3    2 7803.068  0      "
      ]
     },
     "metadata": {},
     "output_type": "display_data"
    }
   ],
   "source": [
    "mp.2 <- glm(sale ~ residential + Product.category, data = data.full, family=binomial)\n",
    "anova(mp.1, mp.2, test=\"Chisq\")\n",
    "#summary(mp.2)"
   ]
  },
  {
   "cell_type": "code",
   "execution_count": 39,
   "metadata": {},
   "outputs": [],
   "source": [
    "mp.3 <- glm(sale ~ residential*Product.category, data = data.full, family=binomial)\n",
    "\n",
    "anova(mp.2, mp.3, test=\"Chisq\")\n",
    "#summary(mp.3)"
   ]
  },
  {
   "cell_type": "code",
   "execution_count": null,
   "metadata": {},
   "outputs": [],
   "source": [
    "mp.4 <- glm(sale ~ (workplace + retail + transit + parks + grocery + residential)*Product.category, data = data.full[!is.na(data.full$Product.category),], family=binomial)\n",
    "anova(mp.3, mp.4, test=\"Chisq\")\n",
    "#summary(mp.4)"
   ]
  },
  {
   "cell_type": "markdown",
   "metadata": {},
   "source": [
    "### FINAL MODELS"
   ]
  },
  {
   "cell_type": "code",
   "execution_count": 4,
   "metadata": {},
   "outputs": [],
   "source": [
    "m.everset <- glm(everset ~ residential*Product.category, data = data.full, family=binomial)\n",
    "m.everissued <- glm(everissued ~ residential*Product.category, data = data.full, family=binomial)\n",
    "m.evernetissued <- glm(evernetissued ~ residential*Product.category, data = data.full, family=binomial)\n",
    "m.eversat <- glm(eversat ~ residential*Product.category, data = data.full, family=binomial)\n",
    "m.signed <- glm(signed ~ residential*Product.category, data = data.full, family=binomial)\n",
    "m.rescinded <- glm(rescinded ~ residential*Product.category, data = data.full, family=binomial)\n",
    "m.sale <- glm(sale ~ residential*Product.category, data = data.full, family=binomial)\n",
    "m.changeorder <- glm(changeorder ~ residential*Product.category, data = data.full, family=binomial)"
   ]
  },
  {
   "cell_type": "code",
   "execution_count": 54,
   "metadata": {},
   "outputs": [
    {
     "data": {
      "text/html": [
       "<table>\n",
       "<thead><tr><th></th><th scope=col>Estimate</th><th scope=col>Std..Error</th><th scope=col>z.value</th><th scope=col>Pr...z..</th></tr></thead>\n",
       "<tbody>\n",
       "\t<tr><th scope=row>residential</th><td> 0.037096155 </td><td>0.0005989517 </td><td> 61.9351398  </td><td> 0.000000e+00</td></tr>\n",
       "\t<tr><th scope=row>residential.Product.categoryNot.Urgent</th><td>-0.014467029 </td><td>0.0006776051 </td><td>-21.3502359  </td><td>3.879757e-101</td></tr>\n",
       "\t<tr><th scope=row>residential.Product.categoryUrgent</th><td>-0.017016805 </td><td>0.0006905460 </td><td>-24.6425362  </td><td>4.424693e-134</td></tr>\n",
       "\t<tr><th scope=row>residential.1</th><td> 0.036738218 </td><td>0.0006002107 </td><td> 61.2088649  </td><td> 0.000000e+00</td></tr>\n",
       "\t<tr><th scope=row>residential.Product.categoryNot.Urgent.1</th><td>-0.014119749 </td><td>0.0006787409 </td><td>-20.8028545  </td><td> 4.078023e-96</td></tr>\n",
       "\t<tr><th scope=row>residential.Product.categoryUrgent.1</th><td>-0.016603994 </td><td>0.0006917044 </td><td>-24.0044643  </td><td>2.497758e-127</td></tr>\n",
       "\t<tr><th scope=row>residential.2</th><td> 0.027085033 </td><td>0.0006723625 </td><td> 40.2833805  </td><td> 0.000000e+00</td></tr>\n",
       "\t<tr><th scope=row>residential.Product.categoryNot.Urgent.2</th><td>-0.006454162 </td><td>0.0007556392 </td><td> -8.5413281  </td><td> 1.326879e-17</td></tr>\n",
       "\t<tr><th scope=row>residential.Product.categoryUrgent.2</th><td>-0.007343696 </td><td>0.0007793827 </td><td> -9.4224513  </td><td> 4.406776e-21</td></tr>\n",
       "\t<tr><th scope=row>residential.3</th><td> 0.027030761 </td><td>0.0006729226 </td><td> 40.1691952  </td><td> 0.000000e+00</td></tr>\n",
       "\t<tr><th scope=row>residential.Product.categoryNot.Urgent.3</th><td>-0.006567862 </td><td>0.0007563324 </td><td> -8.6838311  </td><td> 3.826570e-18</td></tr>\n",
       "\t<tr><th scope=row>residential.Product.categoryUrgent.3</th><td>-0.007399589 </td><td>0.0007800536 </td><td> -9.4860010  </td><td> 2.400678e-21</td></tr>\n",
       "\t<tr><th scope=row>residential.4</th><td> 0.019379868 </td><td>0.0010698673 </td><td> 18.1142733  </td><td> 2.458979e-73</td></tr>\n",
       "\t<tr><th scope=row>residential.Product.categoryNot.Urgent.4</th><td>-0.005111021 </td><td>0.0011885230 </td><td> -4.3003132  </td><td> 1.705569e-05</td></tr>\n",
       "\t<tr><th scope=row>residential.Product.categoryUrgent.4</th><td>-0.005889993 </td><td>0.0012315387 </td><td> -4.7826293  </td><td> 1.730170e-06</td></tr>\n",
       "\t<tr><th scope=row>residential.5</th><td> 0.019418594 </td><td>0.0025264255 </td><td>  7.6861929  </td><td> 1.515779e-14</td></tr>\n",
       "\t<tr><th scope=row>residential.Product.categoryNot.Urgent.5</th><td>-0.015244654 </td><td>0.0027657213 </td><td> -5.5119993  </td><td> 3.547802e-08</td></tr>\n",
       "\t<tr><th scope=row>residential.Product.categoryUrgent.5</th><td>-0.012635237 </td><td>0.0028135264 </td><td> -4.4908898  </td><td> 7.092625e-06</td></tr>\n",
       "\t<tr><th scope=row>residential.6</th><td> 0.018855730 </td><td>0.0011644619 </td><td> 16.1926558  </td><td> 5.682222e-59</td></tr>\n",
       "\t<tr><th scope=row>residential.Product.categoryNot.Urgent.6</th><td>-0.002505317 </td><td>0.0012973222 </td><td> -1.9311448  </td><td> 5.346515e-02</td></tr>\n",
       "\t<tr><th scope=row>residential.Product.categoryUrgent.6</th><td>-0.003613947 </td><td>0.0013542352 </td><td> -2.6686259  </td><td> 7.616223e-03</td></tr>\n",
       "\t<tr><th scope=row>residential.7</th><td>-0.023942696 </td><td>0.0648463089 </td><td> -0.3692222  </td><td> 7.119621e-01</td></tr>\n",
       "\t<tr><th scope=row>residential.Product.categoryNot.Urgent.7</th><td> 0.044603974 </td><td>0.0679591474 </td><td>  0.6563351  </td><td> 5.116085e-01</td></tr>\n",
       "\t<tr><th scope=row>residential.Product.categoryUrgent.7</th><td> 0.027819199 </td><td>0.0660347648 </td><td>  0.4212811  </td><td> 6.735498e-01</td></tr>\n",
       "</tbody>\n",
       "</table>\n"
      ],
      "text/latex": [
       "\\begin{tabular}{r|llll}\n",
       "  & Estimate & Std..Error & z.value & Pr...z..\\\\\n",
       "\\hline\n",
       "\tresidential &  0.037096155  & 0.0005989517  &  61.9351398   &  0.000000e+00\\\\\n",
       "\tresidential.Product.categoryNot.Urgent & -0.014467029  & 0.0006776051  & -21.3502359   & 3.879757e-101\\\\\n",
       "\tresidential.Product.categoryUrgent & -0.017016805  & 0.0006905460  & -24.6425362   & 4.424693e-134\\\\\n",
       "\tresidential.1 &  0.036738218  & 0.0006002107  &  61.2088649   &  0.000000e+00\\\\\n",
       "\tresidential.Product.categoryNot.Urgent.1 & -0.014119749  & 0.0006787409  & -20.8028545   &  4.078023e-96\\\\\n",
       "\tresidential.Product.categoryUrgent.1 & -0.016603994  & 0.0006917044  & -24.0044643   & 2.497758e-127\\\\\n",
       "\tresidential.2 &  0.027085033  & 0.0006723625  &  40.2833805   &  0.000000e+00\\\\\n",
       "\tresidential.Product.categoryNot.Urgent.2 & -0.006454162  & 0.0007556392  &  -8.5413281   &  1.326879e-17\\\\\n",
       "\tresidential.Product.categoryUrgent.2 & -0.007343696  & 0.0007793827  &  -9.4224513   &  4.406776e-21\\\\\n",
       "\tresidential.3 &  0.027030761  & 0.0006729226  &  40.1691952   &  0.000000e+00\\\\\n",
       "\tresidential.Product.categoryNot.Urgent.3 & -0.006567862  & 0.0007563324  &  -8.6838311   &  3.826570e-18\\\\\n",
       "\tresidential.Product.categoryUrgent.3 & -0.007399589  & 0.0007800536  &  -9.4860010   &  2.400678e-21\\\\\n",
       "\tresidential.4 &  0.019379868  & 0.0010698673  &  18.1142733   &  2.458979e-73\\\\\n",
       "\tresidential.Product.categoryNot.Urgent.4 & -0.005111021  & 0.0011885230  &  -4.3003132   &  1.705569e-05\\\\\n",
       "\tresidential.Product.categoryUrgent.4 & -0.005889993  & 0.0012315387  &  -4.7826293   &  1.730170e-06\\\\\n",
       "\tresidential.5 &  0.019418594  & 0.0025264255  &   7.6861929   &  1.515779e-14\\\\\n",
       "\tresidential.Product.categoryNot.Urgent.5 & -0.015244654  & 0.0027657213  &  -5.5119993   &  3.547802e-08\\\\\n",
       "\tresidential.Product.categoryUrgent.5 & -0.012635237  & 0.0028135264  &  -4.4908898   &  7.092625e-06\\\\\n",
       "\tresidential.6 &  0.018855730  & 0.0011644619  &  16.1926558   &  5.682222e-59\\\\\n",
       "\tresidential.Product.categoryNot.Urgent.6 & -0.002505317  & 0.0012973222  &  -1.9311448   &  5.346515e-02\\\\\n",
       "\tresidential.Product.categoryUrgent.6 & -0.003613947  & 0.0013542352  &  -2.6686259   &  7.616223e-03\\\\\n",
       "\tresidential.7 & -0.023942696  & 0.0648463089  &  -0.3692222   &  7.119621e-01\\\\\n",
       "\tresidential.Product.categoryNot.Urgent.7 &  0.044603974  & 0.0679591474  &   0.6563351   &  5.116085e-01\\\\\n",
       "\tresidential.Product.categoryUrgent.7 &  0.027819199  & 0.0660347648  &   0.4212811   &  6.735498e-01\\\\\n",
       "\\end{tabular}\n"
      ],
      "text/markdown": [
       "\n",
       "| <!--/--> | Estimate | Std..Error | z.value | Pr...z.. |\n",
       "|---|---|---|---|---|\n",
       "| residential |  0.037096155  | 0.0005989517  |  61.9351398   |  0.000000e+00 |\n",
       "| residential.Product.categoryNot.Urgent | -0.014467029  | 0.0006776051  | -21.3502359   | 3.879757e-101 |\n",
       "| residential.Product.categoryUrgent | -0.017016805  | 0.0006905460  | -24.6425362   | 4.424693e-134 |\n",
       "| residential.1 |  0.036738218  | 0.0006002107  |  61.2088649   |  0.000000e+00 |\n",
       "| residential.Product.categoryNot.Urgent.1 | -0.014119749  | 0.0006787409  | -20.8028545   |  4.078023e-96 |\n",
       "| residential.Product.categoryUrgent.1 | -0.016603994  | 0.0006917044  | -24.0044643   | 2.497758e-127 |\n",
       "| residential.2 |  0.027085033  | 0.0006723625  |  40.2833805   |  0.000000e+00 |\n",
       "| residential.Product.categoryNot.Urgent.2 | -0.006454162  | 0.0007556392  |  -8.5413281   |  1.326879e-17 |\n",
       "| residential.Product.categoryUrgent.2 | -0.007343696  | 0.0007793827  |  -9.4224513   |  4.406776e-21 |\n",
       "| residential.3 |  0.027030761  | 0.0006729226  |  40.1691952   |  0.000000e+00 |\n",
       "| residential.Product.categoryNot.Urgent.3 | -0.006567862  | 0.0007563324  |  -8.6838311   |  3.826570e-18 |\n",
       "| residential.Product.categoryUrgent.3 | -0.007399589  | 0.0007800536  |  -9.4860010   |  2.400678e-21 |\n",
       "| residential.4 |  0.019379868  | 0.0010698673  |  18.1142733   |  2.458979e-73 |\n",
       "| residential.Product.categoryNot.Urgent.4 | -0.005111021  | 0.0011885230  |  -4.3003132   |  1.705569e-05 |\n",
       "| residential.Product.categoryUrgent.4 | -0.005889993  | 0.0012315387  |  -4.7826293   |  1.730170e-06 |\n",
       "| residential.5 |  0.019418594  | 0.0025264255  |   7.6861929   |  1.515779e-14 |\n",
       "| residential.Product.categoryNot.Urgent.5 | -0.015244654  | 0.0027657213  |  -5.5119993   |  3.547802e-08 |\n",
       "| residential.Product.categoryUrgent.5 | -0.012635237  | 0.0028135264  |  -4.4908898   |  7.092625e-06 |\n",
       "| residential.6 |  0.018855730  | 0.0011644619  |  16.1926558   |  5.682222e-59 |\n",
       "| residential.Product.categoryNot.Urgent.6 | -0.002505317  | 0.0012973222  |  -1.9311448   |  5.346515e-02 |\n",
       "| residential.Product.categoryUrgent.6 | -0.003613947  | 0.0013542352  |  -2.6686259   |  7.616223e-03 |\n",
       "| residential.7 | -0.023942696  | 0.0648463089  |  -0.3692222   |  7.119621e-01 |\n",
       "| residential.Product.categoryNot.Urgent.7 |  0.044603974  | 0.0679591474  |   0.6563351   |  5.116085e-01 |\n",
       "| residential.Product.categoryUrgent.7 |  0.027819199  | 0.0660347648  |   0.4212811   |  6.735498e-01 |\n",
       "\n"
      ],
      "text/plain": [
       "                                         Estimate     Std..Error   z.value    \n",
       "residential                               0.037096155 0.0005989517  61.9351398\n",
       "residential.Product.categoryNot.Urgent   -0.014467029 0.0006776051 -21.3502359\n",
       "residential.Product.categoryUrgent       -0.017016805 0.0006905460 -24.6425362\n",
       "residential.1                             0.036738218 0.0006002107  61.2088649\n",
       "residential.Product.categoryNot.Urgent.1 -0.014119749 0.0006787409 -20.8028545\n",
       "residential.Product.categoryUrgent.1     -0.016603994 0.0006917044 -24.0044643\n",
       "residential.2                             0.027085033 0.0006723625  40.2833805\n",
       "residential.Product.categoryNot.Urgent.2 -0.006454162 0.0007556392  -8.5413281\n",
       "residential.Product.categoryUrgent.2     -0.007343696 0.0007793827  -9.4224513\n",
       "residential.3                             0.027030761 0.0006729226  40.1691952\n",
       "residential.Product.categoryNot.Urgent.3 -0.006567862 0.0007563324  -8.6838311\n",
       "residential.Product.categoryUrgent.3     -0.007399589 0.0007800536  -9.4860010\n",
       "residential.4                             0.019379868 0.0010698673  18.1142733\n",
       "residential.Product.categoryNot.Urgent.4 -0.005111021 0.0011885230  -4.3003132\n",
       "residential.Product.categoryUrgent.4     -0.005889993 0.0012315387  -4.7826293\n",
       "residential.5                             0.019418594 0.0025264255   7.6861929\n",
       "residential.Product.categoryNot.Urgent.5 -0.015244654 0.0027657213  -5.5119993\n",
       "residential.Product.categoryUrgent.5     -0.012635237 0.0028135264  -4.4908898\n",
       "residential.6                             0.018855730 0.0011644619  16.1926558\n",
       "residential.Product.categoryNot.Urgent.6 -0.002505317 0.0012973222  -1.9311448\n",
       "residential.Product.categoryUrgent.6     -0.003613947 0.0013542352  -2.6686259\n",
       "residential.7                            -0.023942696 0.0648463089  -0.3692222\n",
       "residential.Product.categoryNot.Urgent.7  0.044603974 0.0679591474   0.6563351\n",
       "residential.Product.categoryUrgent.7      0.027819199 0.0660347648   0.4212811\n",
       "                                         Pr...z..     \n",
       "residential                               0.000000e+00\n",
       "residential.Product.categoryNot.Urgent   3.879757e-101\n",
       "residential.Product.categoryUrgent       4.424693e-134\n",
       "residential.1                             0.000000e+00\n",
       "residential.Product.categoryNot.Urgent.1  4.078023e-96\n",
       "residential.Product.categoryUrgent.1     2.497758e-127\n",
       "residential.2                             0.000000e+00\n",
       "residential.Product.categoryNot.Urgent.2  1.326879e-17\n",
       "residential.Product.categoryUrgent.2      4.406776e-21\n",
       "residential.3                             0.000000e+00\n",
       "residential.Product.categoryNot.Urgent.3  3.826570e-18\n",
       "residential.Product.categoryUrgent.3      2.400678e-21\n",
       "residential.4                             2.458979e-73\n",
       "residential.Product.categoryNot.Urgent.4  1.705569e-05\n",
       "residential.Product.categoryUrgent.4      1.730170e-06\n",
       "residential.5                             1.515779e-14\n",
       "residential.Product.categoryNot.Urgent.5  3.547802e-08\n",
       "residential.Product.categoryUrgent.5      7.092625e-06\n",
       "residential.6                             5.682222e-59\n",
       "residential.Product.categoryNot.Urgent.6  5.346515e-02\n",
       "residential.Product.categoryUrgent.6      7.616223e-03\n",
       "residential.7                             7.119621e-01\n",
       "residential.Product.categoryNot.Urgent.7  5.116085e-01\n",
       "residential.Product.categoryUrgent.7      6.735498e-01"
      ]
     },
     "metadata": {},
     "output_type": "display_data"
    }
   ],
   "source": [
    "#All slopes from summary\n",
    "coef.df <- data.frame(rbind(summary(m.everset)$coefficients[c(2, 5, 6), ],\n",
    "                            summary(m.everissued)$coefficients[c(2, 5, 6), ],\n",
    "                            summary(m.evernetissued)$coefficients[c(2, 5, 6), ],\n",
    "                            summary(m.eversat)$coefficients[c(2, 5, 6), ],\n",
    "                            summary(m.signed)$coefficients[c(2, 5, 6), ],\n",
    "                            summary(m.rescinded)$coefficients[c(2, 5, 6), ],\n",
    "                            summary(m.sale)$coefficients[c(2, 5, 6), ],\n",
    "                            summary(m.changeorder)$coefficients[c(2, 5, 6), ]))\n",
    "coef.df\n",
    "#write.table(coef.df, \"clipboard\", sep = \"\\t\")"
   ]
  },
  {
   "cell_type": "markdown",
   "metadata": {},
   "source": [
    "### MODEL VALIDATION"
   ]
  },
  {
   "cell_type": "code",
   "execution_count": 44,
   "metadata": {},
   "outputs": [
    {
     "data": {
      "text/html": [
       "<table>\n",
       "<tbody>\n",
       "\t<tr><td>0.07777759</td><td>0.1358173 </td></tr>\n",
       "\t<tr><td>0.19962366</td><td>0.2161489 </td></tr>\n",
       "\t<tr><td>0.25590193</td><td>0.2972533 </td></tr>\n",
       "\t<tr><td>0.32140011</td><td>0.3377913 </td></tr>\n",
       "\t<tr><td>0.49864456</td><td>0.5171859 </td></tr>\n",
       "</tbody>\n",
       "</table>\n"
      ],
      "text/latex": [
       "\\begin{tabular}{ll}\n",
       "\t 0.07777759 & 0.1358173 \\\\\n",
       "\t 0.19962366 & 0.2161489 \\\\\n",
       "\t 0.25590193 & 0.2972533 \\\\\n",
       "\t 0.32140011 & 0.3377913 \\\\\n",
       "\t 0.49864456 & 0.5171859 \\\\\n",
       "\\end{tabular}\n"
      ],
      "text/markdown": [
       "\n",
       "| 0.07777759 | 0.1358173  |\n",
       "| 0.19962366 | 0.2161489  |\n",
       "| 0.25590193 | 0.2972533  |\n",
       "| 0.32140011 | 0.3377913  |\n",
       "| 0.49864456 | 0.5171859  |\n",
       "\n"
      ],
      "text/plain": [
       "     [,1]       [,2]     \n",
       "[1,] 0.07777759 0.1358173\n",
       "[2,] 0.19962366 0.2161489\n",
       "[3,] 0.25590193 0.2972533\n",
       "[4,] 0.32140011 0.3377913\n",
       "[5,] 0.49864456 0.5171859"
      ]
     },
     "metadata": {},
     "output_type": "display_data"
    },
    {
     "data": {
      "image/png": "[encoded data removed]",
      "text/plain": [
       "plot without title"
      ]
     },
     "metadata": {},
     "output_type": "display_data"
    }
   ],
   "source": [
    "bp.everset <- boxplot(m.everset$fitted.values ~ everset, data = data.full,\n",
    "                      xlab = \"Set Appointment Outcome\", ylab = \"Fitted Probability of Setting Appointment\", names = c(\"Did Not Set Appointment\", \"Set Appointment\"))\n",
    "abline(h = mean(data.full$everset))\n",
    "bp.everset$stats"
   ]
  },
  {
   "cell_type": "code",
   "execution_count": 45,
   "metadata": {},
   "outputs": [
    {
     "data": {
      "text/html": [
       "<table>\n",
       "<tbody>\n",
       "\t<tr><td>0.07745817</td><td>0.1354937 </td></tr>\n",
       "\t<tr><td>0.19938437</td><td>0.2159416 </td></tr>\n",
       "\t<tr><td>0.25578382</td><td>0.2970726 </td></tr>\n",
       "\t<tr><td>0.31793175</td><td>0.3361878 </td></tr>\n",
       "\t<tr><td>0.49286833</td><td>0.5112351 </td></tr>\n",
       "</tbody>\n",
       "</table>\n"
      ],
      "text/latex": [
       "\\begin{tabular}{ll}\n",
       "\t 0.07745817 & 0.1354937 \\\\\n",
       "\t 0.19938437 & 0.2159416 \\\\\n",
       "\t 0.25578382 & 0.2970726 \\\\\n",
       "\t 0.31793175 & 0.3361878 \\\\\n",
       "\t 0.49286833 & 0.5112351 \\\\\n",
       "\\end{tabular}\n"
      ],
      "text/markdown": [
       "\n",
       "| 0.07745817 | 0.1354937  |\n",
       "| 0.19938437 | 0.2159416  |\n",
       "| 0.25578382 | 0.2970726  |\n",
       "| 0.31793175 | 0.3361878  |\n",
       "| 0.49286833 | 0.5112351  |\n",
       "\n"
      ],
      "text/plain": [
       "     [,1]       [,2]     \n",
       "[1,] 0.07745817 0.1354937\n",
       "[2,] 0.19938437 0.2159416\n",
       "[3,] 0.25578382 0.2970726\n",
       "[4,] 0.31793175 0.3361878\n",
       "[5,] 0.49286833 0.5112351"
      ]
     },
     "metadata": {},
     "output_type": "display_data"
    },
    {
     "data": {
      "image/png": "[encoded data removed]",
      "text/plain": [
       "plot without title"
      ]
     },
     "metadata": {},
     "output_type": "display_data"
    }
   ],
   "source": [
    "bp.everissued <- boxplot(m.everissued$fitted.values ~ everissued, data = data.full,\n",
    "                         xlab = \"Issued Appointment Outcome\", ylab = \"Fitted Probability of Issuing Appointmet\", names = c(\"Did Not Issue Appointment\", \"Issued Appointment\"))\n",
    "abline(h = mean(data.full$everissued))\n",
    "bp.everissued$stats"
   ]
  },
  {
   "cell_type": "code",
   "execution_count": 46,
   "metadata": {},
   "outputs": [
    {
     "data": {
      "text/html": [
       "<table>\n",
       "<tbody>\n",
       "\t<tr><td>0.05290105</td><td>0.0933840 </td></tr>\n",
       "\t<tr><td>0.13956013</td><td>0.1543999 </td></tr>\n",
       "\t<tr><td>0.18199004</td><td>0.2190520 </td></tr>\n",
       "\t<tr><td>0.23542960</td><td>0.2485889 </td></tr>\n",
       "\t<tr><td>0.37735824</td><td>0.3710158 </td></tr>\n",
       "</tbody>\n",
       "</table>\n"
      ],
      "text/latex": [
       "\\begin{tabular}{ll}\n",
       "\t 0.05290105 & 0.0933840 \\\\\n",
       "\t 0.13956013 & 0.1543999 \\\\\n",
       "\t 0.18199004 & 0.2190520 \\\\\n",
       "\t 0.23542960 & 0.2485889 \\\\\n",
       "\t 0.37735824 & 0.3710158 \\\\\n",
       "\\end{tabular}\n"
      ],
      "text/markdown": [
       "\n",
       "| 0.05290105 | 0.0933840  |\n",
       "| 0.13956013 | 0.1543999  |\n",
       "| 0.18199004 | 0.2190520  |\n",
       "| 0.23542960 | 0.2485889  |\n",
       "| 0.37735824 | 0.3710158  |\n",
       "\n"
      ],
      "text/plain": [
       "     [,1]       [,2]     \n",
       "[1,] 0.05290105 0.0933840\n",
       "[2,] 0.13956013 0.1543999\n",
       "[3,] 0.18199004 0.2190520\n",
       "[4,] 0.23542960 0.2485889\n",
       "[5,] 0.37735824 0.3710158"
      ]
     },
     "metadata": {},
     "output_type": "display_data"
    },
    {
     "data": {
      "image/png": "[encoded data removed]",
      "text/plain": [
       "plot without title"
      ]
     },
     "metadata": {},
     "output_type": "display_data"
    }
   ],
   "source": [
    "bp.evernetissued <- boxplot(m.evernetissued$fitted.values ~ evernetissued, data = data.full,\n",
    "                            xlab = \"Sales Rep Receiving Appointment Outcome\", ylab = \"Fitted Probability of Sales Rep Receiving Appointment\",\n",
    "                            names = c(\"Rep Did Not Receive Appointment\", \"Rep Received Appointment\"))\n",
    "abline(h = mean(data.full$evernetissued))\n",
    "bp.evernetissued$stats"
   ]
  },
  {
   "cell_type": "code",
   "execution_count": 47,
   "metadata": {},
   "outputs": [
    {
     "data": {
      "text/html": [
       "<table>\n",
       "<tbody>\n",
       "\t<tr><td>0.05308173</td><td>0.09339969</td></tr>\n",
       "\t<tr><td>0.13927836</td><td>0.15400744</td></tr>\n",
       "\t<tr><td>0.18159218</td><td>0.21836842</td></tr>\n",
       "\t<tr><td>0.23483143</td><td>0.24759197</td></tr>\n",
       "\t<tr><td>0.37625859</td><td>0.36993633</td></tr>\n",
       "</tbody>\n",
       "</table>\n"
      ],
      "text/latex": [
       "\\begin{tabular}{ll}\n",
       "\t 0.05308173 & 0.09339969\\\\\n",
       "\t 0.13927836 & 0.15400744\\\\\n",
       "\t 0.18159218 & 0.21836842\\\\\n",
       "\t 0.23483143 & 0.24759197\\\\\n",
       "\t 0.37625859 & 0.36993633\\\\\n",
       "\\end{tabular}\n"
      ],
      "text/markdown": [
       "\n",
       "| 0.05308173 | 0.09339969 |\n",
       "| 0.13927836 | 0.15400744 |\n",
       "| 0.18159218 | 0.21836842 |\n",
       "| 0.23483143 | 0.24759197 |\n",
       "| 0.37625859 | 0.36993633 |\n",
       "\n"
      ],
      "text/plain": [
       "     [,1]       [,2]      \n",
       "[1,] 0.05308173 0.09339969\n",
       "[2,] 0.13927836 0.15400744\n",
       "[3,] 0.18159218 0.21836842\n",
       "[4,] 0.23483143 0.24759197\n",
       "[5,] 0.37625859 0.36993633"
      ]
     },
     "metadata": {},
     "output_type": "display_data"
    },
    {
     "data": {
      "image/png": "[encoded data removed]",
      "text/plain": [
       "plot without title"
      ]
     },
     "metadata": {},
     "output_type": "display_data"
    }
   ],
   "source": [
    "bp.eversat <- boxplot(m.eversat$fitted.values ~ eversat, data = data.full,\n",
    "                      xlab = \"Sat for Demo Outcome\", ylab = \"Fitted Probability of Sitting for Demo\", names = c(\"Did Not Sit for Demo\", \"Sat for Demo\"))\n",
    "abline(h = mean(data.full$eversat))                      \n",
    "bp.eversat$stats"
   ]
  },
  {
   "cell_type": "code",
   "execution_count": 48,
   "metadata": {},
   "outputs": [
    {
     "data": {
      "text/html": [
       "<table>\n",
       "<tbody>\n",
       "\t<tr><td>0.02636482</td><td>0.04002781</td></tr>\n",
       "\t<tr><td>0.05380599</td><td>0.05662019</td></tr>\n",
       "\t<tr><td>0.06703291</td><td>0.07741950</td></tr>\n",
       "\t<tr><td>0.08597627</td><td>0.08940036</td></tr>\n",
       "\t<tr><td>0.12611883</td><td>0.12611883</td></tr>\n",
       "</tbody>\n",
       "</table>\n"
      ],
      "text/latex": [
       "\\begin{tabular}{ll}\n",
       "\t 0.02636482 & 0.04002781\\\\\n",
       "\t 0.05380599 & 0.05662019\\\\\n",
       "\t 0.06703291 & 0.07741950\\\\\n",
       "\t 0.08597627 & 0.08940036\\\\\n",
       "\t 0.12611883 & 0.12611883\\\\\n",
       "\\end{tabular}\n"
      ],
      "text/markdown": [
       "\n",
       "| 0.02636482 | 0.04002781 |\n",
       "| 0.05380599 | 0.05662019 |\n",
       "| 0.06703291 | 0.07741950 |\n",
       "| 0.08597627 | 0.08940036 |\n",
       "| 0.12611883 | 0.12611883 |\n",
       "\n"
      ],
      "text/plain": [
       "     [,1]       [,2]      \n",
       "[1,] 0.02636482 0.04002781\n",
       "[2,] 0.05380599 0.05662019\n",
       "[3,] 0.06703291 0.07741950\n",
       "[4,] 0.08597627 0.08940036\n",
       "[5,] 0.12611883 0.12611883"
      ]
     },
     "metadata": {},
     "output_type": "display_data"
    },
    {
     "data": {
      "image/png": "[encoded data removed]",
      "text/plain": [
       "plot without title"
      ]
     },
     "metadata": {},
     "output_type": "display_data"
    }
   ],
   "source": [
    "bp.signed <- boxplot(m.signed$fitted.values ~ signed, data = data.full,\n",
    "                     xlab = \"Signed Contract Outcome\", ylab = \"Fitted Probability of Signing Contract\", names = c(\"Did Not Sign Contract\", \"Signed Contract\"))\n",
    "abline(h = mean(data.full$signed))\n",
    "bp.signed$stats"
   ]
  },
  {
   "cell_type": "code",
   "execution_count": 49,
   "metadata": {},
   "outputs": [
    {
     "data": {
      "text/html": [
       "<table>\n",
       "<tbody>\n",
       "\t<tr><td>0.005682051</td><td>0.009200267</td></tr>\n",
       "\t<tr><td>0.012454559</td><td>0.012622531</td></tr>\n",
       "\t<tr><td>0.013406495</td><td>0.016597963</td></tr>\n",
       "\t<tr><td>0.017293179</td><td>0.017435618</td></tr>\n",
       "\t<tr><td>0.020558682</td><td>0.019395496</td></tr>\n",
       "</tbody>\n",
       "</table>\n"
      ],
      "text/latex": [
       "\\begin{tabular}{ll}\n",
       "\t 0.005682051 & 0.009200267\\\\\n",
       "\t 0.012454559 & 0.012622531\\\\\n",
       "\t 0.013406495 & 0.016597963\\\\\n",
       "\t 0.017293179 & 0.017435618\\\\\n",
       "\t 0.020558682 & 0.019395496\\\\\n",
       "\\end{tabular}\n"
      ],
      "text/markdown": [
       "\n",
       "| 0.005682051 | 0.009200267 |\n",
       "| 0.012454559 | 0.012622531 |\n",
       "| 0.013406495 | 0.016597963 |\n",
       "| 0.017293179 | 0.017435618 |\n",
       "| 0.020558682 | 0.019395496 |\n",
       "\n"
      ],
      "text/plain": [
       "     [,1]        [,2]       \n",
       "[1,] 0.005682051 0.009200267\n",
       "[2,] 0.012454559 0.012622531\n",
       "[3,] 0.013406495 0.016597963\n",
       "[4,] 0.017293179 0.017435618\n",
       "[5,] 0.020558682 0.019395496"
      ]
     },
     "metadata": {},
     "output_type": "display_data"
    },
    {
     "data": {
      "image/png": "[encoded data removed]",
      "text/plain": [
       "plot without title"
      ]
     },
     "metadata": {},
     "output_type": "display_data"
    }
   ],
   "source": [
    "bp.rescinded <- boxplot(m.rescinded$fitted.values ~ rescinded, data = data.full,\n",
    "                        xlab = \"Rescinded Contract Outcome\", ylab = \"Fitted Probability of Rescinding Contract\", names = c(\"Did Not Rescind Contract\", \"Rescinded Contract\"))\n",
    "abline(h = mean(data.full$rescinded))\n",
    "bp.rescinded$stat"
   ]
  },
  {
   "cell_type": "code",
   "execution_count": 50,
   "metadata": {},
   "outputs": [
    {
     "data": {
      "text/html": [
       "<table>\n",
       "<tbody>\n",
       "\t<tr><td>0.01818890</td><td>0.02928804</td></tr>\n",
       "\t<tr><td>0.04107987</td><td>0.04354985</td></tr>\n",
       "\t<tr><td>0.05571324</td><td>0.06262953</td></tr>\n",
       "\t<tr><td>0.06864200</td><td>0.07184499</td></tr>\n",
       "\t<tr><td>0.10743371</td><td>0.10743371</td></tr>\n",
       "</tbody>\n",
       "</table>\n"
      ],
      "text/latex": [
       "\\begin{tabular}{ll}\n",
       "\t 0.01818890 & 0.02928804\\\\\n",
       "\t 0.04107987 & 0.04354985\\\\\n",
       "\t 0.05571324 & 0.06262953\\\\\n",
       "\t 0.06864200 & 0.07184499\\\\\n",
       "\t 0.10743371 & 0.10743371\\\\\n",
       "\\end{tabular}\n"
      ],
      "text/markdown": [
       "\n",
       "| 0.01818890 | 0.02928804 |\n",
       "| 0.04107987 | 0.04354985 |\n",
       "| 0.05571324 | 0.06262953 |\n",
       "| 0.06864200 | 0.07184499 |\n",
       "| 0.10743371 | 0.10743371 |\n",
       "\n"
      ],
      "text/plain": [
       "     [,1]       [,2]      \n",
       "[1,] 0.01818890 0.02928804\n",
       "[2,] 0.04107987 0.04354985\n",
       "[3,] 0.05571324 0.06262953\n",
       "[4,] 0.06864200 0.07184499\n",
       "[5,] 0.10743371 0.10743371"
      ]
     },
     "metadata": {},
     "output_type": "display_data"
    },
    {
     "data": {
      "image/png": "[encoded data removed]",
      "text/plain": [
       "plot without title"
      ]
     },
     "metadata": {},
     "output_type": "display_data"
    }
   ],
   "source": [
    "bp.sale <- boxplot(m.sale$fitted.values ~ sale, data = data.full,\n",
    "                   xlab = \"Finalized Purchase Outcome\", ylab = \"Fitted Probability of Finalizing Purchase\", names = c(\"Did Not Purchase\", \"Purchased\"))\n",
    "abline(h = mean(data.full$sale))\n",
    "bp.sale$stats"
   ]
  },
  {
   "cell_type": "code",
   "execution_count": 51,
   "metadata": {},
   "outputs": [
    {
     "data": {
      "text/html": [
       "<table>\n",
       "<tbody>\n",
       "\t<tr><td>9.831201e-06</td><td>1.832127e-05</td></tr>\n",
       "\t<tr><td>4.739557e-05</td><td>6.136467e-05</td></tr>\n",
       "\t<tr><td>6.199854e-05</td><td>1.227428e-04</td></tr>\n",
       "\t<tr><td>1.236980e-04</td><td>1.253877e-04</td></tr>\n",
       "\t<tr><td>1.394908e-04</td><td>1.321232e-04</td></tr>\n",
       "</tbody>\n",
       "</table>\n"
      ],
      "text/latex": [
       "\\begin{tabular}{ll}\n",
       "\t 9.831201e-06 & 1.832127e-05\\\\\n",
       "\t 4.739557e-05 & 6.136467e-05\\\\\n",
       "\t 6.199854e-05 & 1.227428e-04\\\\\n",
       "\t 1.236980e-04 & 1.253877e-04\\\\\n",
       "\t 1.394908e-04 & 1.321232e-04\\\\\n",
       "\\end{tabular}\n"
      ],
      "text/markdown": [
       "\n",
       "| 9.831201e-06 | 1.832127e-05 |\n",
       "| 4.739557e-05 | 6.136467e-05 |\n",
       "| 6.199854e-05 | 1.227428e-04 |\n",
       "| 1.236980e-04 | 1.253877e-04 |\n",
       "| 1.394908e-04 | 1.321232e-04 |\n",
       "\n"
      ],
      "text/plain": [
       "     [,1]         [,2]        \n",
       "[1,] 9.831201e-06 1.832127e-05\n",
       "[2,] 4.739557e-05 6.136467e-05\n",
       "[3,] 6.199854e-05 1.227428e-04\n",
       "[4,] 1.236980e-04 1.253877e-04\n",
       "[5,] 1.394908e-04 1.321232e-04"
      ]
     },
     "metadata": {},
     "output_type": "display_data"
    },
    {
     "data": {
      "image/png": "[encoded data removed]",
      "text/plain": [
       "plot without title"
      ]
     },
     "metadata": {},
     "output_type": "display_data"
    }
   ],
   "source": [
    "bp.changeorder <- boxplot(m.changeorder$fitted.values ~ changeorder, data = data.full,\n",
    "                          xlab = \"Changed Order Outcome\", ylab = \"Fitted Probability of Changing Order\", names = c(\"Did Not Change Order\", \"Changed Order\"))\n",
    "abline(h = mean(data.full$changeorder))\n",
    "bp.changeorder$stats"
   ]
  },
  {
   "cell_type": "code",
   "execution_count": 55,
   "metadata": {},
   "outputs": [
    {
     "data": {
      "text/html": [
       "<table>\n",
       "<thead><tr><th scope=col>action</th><th scope=col>X1</th><th scope=col>X2</th><th scope=col>means</th></tr></thead>\n",
       "<tbody>\n",
       "\t<tr><td>EverSet      </td><td>2.559019e-01 </td><td>0.2972532705 </td><td>2.675066e-01 </td></tr>\n",
       "\t<tr><td>EverIssued   </td><td>2.557838e-01 </td><td>0.2970725774 </td><td>2.668851e-01 </td></tr>\n",
       "\t<tr><td>EverNetIssued</td><td>1.819900e-01 </td><td>0.2190520095 </td><td>1.923056e-01 </td></tr>\n",
       "\t<tr><td>EverSat      </td><td>1.815922e-01 </td><td>0.2183684213 </td><td>1.917211e-01 </td></tr>\n",
       "\t<tr><td>Signed       </td><td>6.703291e-02 </td><td>0.0774194979 </td><td>7.027581e-02 </td></tr>\n",
       "\t<tr><td>Rescinded    </td><td>1.340649e-02 </td><td>0.0165979630 </td><td>1.460455e-02 </td></tr>\n",
       "\t<tr><td>Sale         </td><td>5.571324e-02 </td><td>0.0626295328 </td><td>5.567127e-02 </td></tr>\n",
       "\t<tr><td>ChangeOrder  </td><td>6.199854e-05 </td><td>0.0001227428 </td><td>8.143042e-05 </td></tr>\n",
       "</tbody>\n",
       "</table>\n"
      ],
      "text/latex": [
       "\\begin{tabular}{r|llll}\n",
       " action & X1 & X2 & means\\\\\n",
       "\\hline\n",
       "\t EverSet       & 2.559019e-01  & 0.2972532705  & 2.675066e-01 \\\\\n",
       "\t EverIssued    & 2.557838e-01  & 0.2970725774  & 2.668851e-01 \\\\\n",
       "\t EverNetIssued & 1.819900e-01  & 0.2190520095  & 1.923056e-01 \\\\\n",
       "\t EverSat       & 1.815922e-01  & 0.2183684213  & 1.917211e-01 \\\\\n",
       "\t Signed        & 6.703291e-02  & 0.0774194979  & 7.027581e-02 \\\\\n",
       "\t Rescinded     & 1.340649e-02  & 0.0165979630  & 1.460455e-02 \\\\\n",
       "\t Sale          & 5.571324e-02  & 0.0626295328  & 5.567127e-02 \\\\\n",
       "\t ChangeOrder   & 6.199854e-05  & 0.0001227428  & 8.143042e-05 \\\\\n",
       "\\end{tabular}\n"
      ],
      "text/markdown": [
       "\n",
       "| action | X1 | X2 | means |\n",
       "|---|---|---|---|\n",
       "| EverSet       | 2.559019e-01  | 0.2972532705  | 2.675066e-01  |\n",
       "| EverIssued    | 2.557838e-01  | 0.2970725774  | 2.668851e-01  |\n",
       "| EverNetIssued | 1.819900e-01  | 0.2190520095  | 1.923056e-01  |\n",
       "| EverSat       | 1.815922e-01  | 0.2183684213  | 1.917211e-01  |\n",
       "| Signed        | 6.703291e-02  | 0.0774194979  | 7.027581e-02  |\n",
       "| Rescinded     | 1.340649e-02  | 0.0165979630  | 1.460455e-02  |\n",
       "| Sale          | 5.571324e-02  | 0.0626295328  | 5.567127e-02  |\n",
       "| ChangeOrder   | 6.199854e-05  | 0.0001227428  | 8.143042e-05  |\n",
       "\n"
      ],
      "text/plain": [
       "  action        X1           X2           means       \n",
       "1 EverSet       2.559019e-01 0.2972532705 2.675066e-01\n",
       "2 EverIssued    2.557838e-01 0.2970725774 2.668851e-01\n",
       "3 EverNetIssued 1.819900e-01 0.2190520095 1.923056e-01\n",
       "4 EverSat       1.815922e-01 0.2183684213 1.917211e-01\n",
       "5 Signed        6.703291e-02 0.0774194979 7.027581e-02\n",
       "6 Rescinded     1.340649e-02 0.0165979630 1.460455e-02\n",
       "7 Sale          5.571324e-02 0.0626295328 5.567127e-02\n",
       "8 ChangeOrder   6.199854e-05 0.0001227428 8.143042e-05"
      ]
     },
     "metadata": {},
     "output_type": "display_data"
    }
   ],
   "source": [
    "#Boxplot summaries\n",
    "action <- c(\"EverSet\", \"EverIssued\", \"EverNetIssued\", \"EverSat\", \"Signed\",\"Rescinded\", \"Sale\", \"ChangeOrder\")\n",
    "\n",
    "bp.df <- cbind(action, data.frame(rbind(bp.everset$stats[3,],\n",
    "               bp.everissued$stats[3,],\n",
    "               bp.evernetissued$stats[3,],\n",
    "               bp.eversat$stats[3,],\n",
    "               bp.signed$stats[3,],\n",
    "               bp.rescinded$stats[3,],\n",
    "               bp.sale$stats[3,],\n",
    "               bp.changeorder$stats[3,])))\n",
    "bp.df$means <- c(mean(data.full$everset),\n",
    "                 mean(data.full$everissued),\n",
    "                 mean(data.full$evernetissued),\n",
    "                 mean(data.full$eversat),\n",
    "                 mean(data.full$signed),\n",
    "                 mean(data.full$rescinded),\n",
    "                 mean(data.full$sale),\n",
    "                 mean(data.full$changeorder))\n",
    "\n",
    "bp.df\n",
    "#write.table(bp.df, \"clipboard\", sep = \"\\t\")"
   ]
  },
  {
   "cell_type": "code",
   "execution_count": 5,
   "metadata": {},
   "outputs": [],
   "source": [
    "#Cross validation\n",
    "dt <- sort(sample(nrow(data.full), nrow(data.full)*.7))\n",
    "train <- data.full[dt,]\n",
    "test <- data.full[-dt,]\n",
    "\n",
    "m.test <- glm(sale ~ residential*Product.category, data = train, family=binomial)\n",
    "predvals <- predict(m.test, newdata = test)"
   ]
  },
  {
   "cell_type": "code",
   "execution_count": 59,
   "metadata": {},
   "outputs": [],
   "source": [
    "test.m.everset <- glm(everset ~ residential*Product.category, data = train, family=binomial)\n",
    "predvals.everset <- predict(test.m.everset, newdata = test)\n",
    "test.df.everset <- data.frame(obs = test$everset, pred = ifelse(exp(predvals.everset) > median(exp(predvals.everset)), 1, 0))\n",
    "test.df.everset$correct <- ifelse(test.df.everset$obs == test.df.everset$pred, 1, 0)\n",
    "correct.everset <- mean(test.df.everset$correct)\n",
    "\n",
    "test.m.everissued <- glm(everissued ~ residential*Product.category, data = train, family=binomial)\n",
    "predvals.everissued <- predict(test.m.everissued, newdata = test)\n",
    "test.df.everissued <- data.frame(obs = test$everissued, pred = ifelse(exp(predvals.everissued) > median(exp(predvals.everissued)), 1, 0))\n",
    "test.df.everissued$correct <- ifelse(test.df.everissued$obs == test.df.everissued$pred, 1, 0)\n",
    "correct.everissued <- mean(test.df.everissued$correct)\n",
    "\n",
    "test.m.evernetissued <- glm(evernetissued ~ residential*Product.category, data = train, family=binomial)\n",
    "predvals.evernetissued <- predict(test.m.evernetissued, newdata = test)\n",
    "test.df.evernetissued <- data.frame(obs = test$evernetissued, pred = ifelse(exp(predvals.evernetissued) > median(exp(predvals.evernetissued)), 1, 0))\n",
    "test.df.evernetissued$correct <- ifelse(test.df.evernetissued$obs == test.df.evernetissued$pred, 1, 0)\n",
    "correct.evernetissued <- mean(test.df.evernetissued$correct)\n",
    "\n",
    "test.m.eversat <- glm(eversat ~ residential*Product.category, data = train, family=binomial)\n",
    "predvals.eversat <- predict(test.m.eversat, newdata = test)\n",
    "test.df.eversat <- data.frame(obs = test$eversat, pred = ifelse(exp(predvals.eversat) > median(exp(predvals.eversat)), 1, 0))\n",
    "test.df.eversat$correct <- ifelse(test.df.eversat$obs == test.df.eversat$pred, 1, 0)\n",
    "correct.eversat <- mean(test.df.eversat$correct)\n",
    "\n",
    "test.m.signed <- glm(signed ~ residential*Product.category, data = train, family=binomial)\n",
    "predvals.signed <- predict(test.m.signed, newdata = test)\n",
    "test.df.signed <- data.frame(obs = test$signed, pred = ifelse(exp(predvals.signed) > median(exp(predvals.signed)), 1, 0))\n",
    "test.df.signed$correct <- ifelse(test.df.signed$obs == test.df.signed$pred, 1, 0)\n",
    "correct.signed <- mean(test.df.signed$correct)\n",
    "\n",
    "test.m.rescinded <- glm(rescinded ~ residential*Product.category, data = train, family=binomial)\n",
    "predvals.rescinded <- predict(test.m.rescinded, newdata = test)\n",
    "test.df.rescinded <- data.frame(obs = test$rescinded, pred = ifelse(exp(predvals.rescinded) > median(exp(predvals.rescinded)), 1, 0))\n",
    "test.df.rescinded$correct <- ifelse(test.df.rescinded$obs == test.df.rescinded$pred, 1, 0)\n",
    "correct.rescinded <- mean(test.df.rescinded$correct)\n",
    "\n",
    "test.m.sale <- glm(sale ~ residential*Product.category, data = train, family=binomial)\n",
    "predvals.sale <- predict(test.m.sale, newdata = test)\n",
    "test.df.sale <- data.frame(obs = test$sale, pred = ifelse(exp(predvals.sale) > median(exp(predvals.sale)), 1, 0))\n",
    "test.df.sale$correct <- ifelse(test.df.sale$obs == test.df.sale$pred, 1, 0)\n",
    "correct.sale <- mean(test.df.sale$correct)\n",
    "\n",
    "test.m.changeorder <- glm(changeorder ~ residential*Product.category, data = train, family=binomial)\n",
    "predvals.changeorder <- predict(test.m.changeorder, newdata = test)\n",
    "test.df.changeorder <- data.frame(obs = test$changeorder, pred = ifelse(exp(predvals.changeorder) > median(exp(predvals.changeorder)), 1, 0))\n",
    "test.df.changeorder$correct <- ifelse(test.df.changeorder$obs == test.df.changeorder$pred, 1, 0)\n",
    "correct.changeorder <- mean(test.df.changeorder$correct)"
   ]
  },
  {
   "cell_type": "code",
   "execution_count": 33,
   "metadata": {},
   "outputs": [
    {
     "data": {
      "text/html": [
       "<table>\n",
       "<thead><tr><th scope=col>action</th><th scope=col>correct.vec</th></tr></thead>\n",
       "<tbody>\n",
       "\t<tr><td>EverSet         </td><td>56.3193760621767</td></tr>\n",
       "\t<tr><td>EverIssued      </td><td>56.2868039020242</td></tr>\n",
       "\t<tr><td>EverNetIssued   </td><td>54.8914789117882</td></tr>\n",
       "\t<tr><td>EverSat         </td><td>54.8652402272209</td></tr>\n",
       "\t<tr><td>Signed          </td><td>51.655223684786 </td></tr>\n",
       "\t<tr><td>Rescinded       </td><td>50.8626344544088</td></tr>\n",
       "\t<tr><td>Sale            </td><td>51.6033495038024</td></tr>\n",
       "\t<tr><td>ChangeOrder     </td><td>50.2602002886255</td></tr>\n",
       "</tbody>\n",
       "</table>\n"
      ],
      "text/latex": [
       "\\begin{tabular}{ll}\n",
       " action & correct.vec\\\\\n",
       "\\hline\n",
       "\t EverSet          & 56.3193760621767\\\\\n",
       "\t EverIssued       & 56.2868039020242\\\\\n",
       "\t EverNetIssued    & 54.8914789117882\\\\\n",
       "\t EverSat          & 54.8652402272209\\\\\n",
       "\t Signed           & 51.655223684786 \\\\\n",
       "\t Rescinded        & 50.8626344544088\\\\\n",
       "\t Sale             & 51.6033495038024\\\\\n",
       "\t ChangeOrder      & 50.2602002886255\\\\\n",
       "\\end{tabular}\n"
      ],
      "text/markdown": [
       "\n",
       "| action | correct.vec |\n",
       "|---|---|\n",
       "| EverSet          | 56.3193760621767 |\n",
       "| EverIssued       | 56.2868039020242 |\n",
       "| EverNetIssued    | 54.8914789117882 |\n",
       "| EverSat          | 54.8652402272209 |\n",
       "| Signed           | 51.655223684786  |\n",
       "| Rescinded        | 50.8626344544088 |\n",
       "| Sale             | 51.6033495038024 |\n",
       "| ChangeOrder      | 50.2602002886255 |\n",
       "\n"
      ],
      "text/plain": [
       "     action        correct.vec     \n",
       "[1,] EverSet       56.3193760621767\n",
       "[2,] EverIssued    56.2868039020242\n",
       "[3,] EverNetIssued 54.8914789117882\n",
       "[4,] EverSat       54.8652402272209\n",
       "[5,] Signed        51.655223684786 \n",
       "[6,] Rescinded     50.8626344544088\n",
       "[7,] Sale          51.6033495038024\n",
       "[8,] ChangeOrder   50.2602002886255"
      ]
     },
     "metadata": {},
     "output_type": "display_data"
    }
   ],
   "source": [
    "correct.vec <- c(correct.everset*100,\n",
    "                 correct.everissued*100,\n",
    "                 correct.evernetissued*100,\n",
    "                 correct.eversat*100,\n",
    "                 correct.signed*100,\n",
    "                 correct.rescinded*100,\n",
    "                 correct.sale*100,\n",
    "                 correct.changeorder*100)\n",
    "\n",
    "correct.df <- cbind(action, correct.vec)\n",
    "correct.df\n",
    "#write.table(correct.df, \"clipboard\", sep = \"\\t\")"
   ]
  }
 ],
 "metadata": {
  "kernelspec": {
   "display_name": "R",
   "language": "R",
   "name": "ir"
  },
  "language_info": {
   "codemirror_mode": "r",
   "file_extension": ".r",
   "mimetype": "text/x-r-source",
   "name": "R",
   "pygments_lexer": "r",
   "version": "3.6.1"
  }
 },
 "nbformat": 4,
 "nbformat_minor": 4
}
